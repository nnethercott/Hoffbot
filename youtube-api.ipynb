{
 "cells": [
  {
   "cell_type": "code",
   "execution_count": 508,
   "id": "a960a4bc",
   "metadata": {
    "scrolled": true
   },
   "outputs": [],
   "source": [
    "#!pip install --upgrade google-api-python-client\n",
    "#!pip install --upgrade google-auth-oauthlib google-auth-httplib2"
   ]
  },
  {
   "cell_type": "code",
   "execution_count": 509,
   "id": "65c5c414",
   "metadata": {},
   "outputs": [],
   "source": [
    "import os \n",
    "from pprint import pprint\n",
    "credentials = os.environ['api_key'] #https://developers.google.com/youtube/v3"
   ]
  },
  {
   "cell_type": "markdown",
   "id": "eee26771",
   "metadata": {},
   "source": [
    "first need to get james hoffman's `channelId`"
   ]
  },
  {
   "cell_type": "code",
   "execution_count": 510,
   "id": "18d5f320",
   "metadata": {},
   "outputs": [
    {
     "name": "stdout",
     "output_type": "stream",
     "text": [
      "{'etag': 'xhXB9kj-bWRHj-fZTf5mjRdgn5Q',\n",
      " 'items': [{'etag': 'lf1Ly6V1O6hk_gDajNpcRIcMSG4',\n",
      "            'id': {'channelId': 'UCMb0O2CdPBNi-QqPk5T3gsQ',\n",
      "                   'kind': 'youtube#channel'},\n",
      "            'kind': 'youtube#searchResult'}],\n",
      " 'kind': 'youtube#searchListResponse',\n",
      " 'nextPageToken': 'CAEQAA',\n",
      " 'pageInfo': {'resultsPerPage': 1, 'totalResults': 25494},\n",
      " 'regionCode': 'IT'}\n"
     ]
    }
   ],
   "source": [
    "import google_auth_oauthlib.flow\n",
    "import googleapiclient.discovery\n",
    "import googleapiclient.errors\n",
    "\n",
    "api_service_name = \"youtube\"\n",
    "api_version = \"v3\"\n",
    "\n",
    "youtube = googleapiclient.discovery.build(api_service_name, api_version, developerKey=credentials)\n",
    "\n",
    "response = youtube.search().list(part='id', q='jameshoffmann', maxResults=1).execute()\n",
    "\n",
    "pprint(response)"
   ]
  },
  {
   "cell_type": "code",
   "execution_count": 511,
   "id": "f6522208",
   "metadata": {},
   "outputs": [
    {
     "name": "stdout",
     "output_type": "stream",
     "text": [
      "{'etag': 'HLcMVd48JdKzhzKanIH4dntHKKE',\n",
      " 'items': [{'contentDetails': {'relatedPlaylists': {'likes': '',\n",
      "                                                    'uploads': 'UUMb0O2CdPBNi-QqPk5T3gsQ'}},\n",
      "            'etag': 'ymuD8EG7AzX3c1oGCRK979DchIw',\n",
      "            'id': 'UCMb0O2CdPBNi-QqPk5T3gsQ',\n",
      "            'kind': 'youtube#channel',\n",
      "            'statistics': {'hiddenSubscriberCount': False,\n",
      "                           'subscriberCount': '1780000',\n",
      "                           'videoCount': '327',\n",
      "                           'viewCount': '230820719'}}],\n",
      " 'kind': 'youtube#channelListResponse',\n",
      " 'pageInfo': {'resultsPerPage': 5, 'totalResults': 1}}\n"
     ]
    }
   ],
   "source": [
    "response = youtube.channels().list(part = \"contentDetails, statistics\",id = 'UCMb0O2CdPBNi-QqPk5T3gsQ').execute()\n",
    "playlist_id = response['items'][0]['contentDetails']['relatedPlaylists']['uploads']\n",
    "pprint(response)"
   ]
  },
  {
   "cell_type": "code",
   "execution_count": 512,
   "id": "b5704c5c",
   "metadata": {},
   "outputs": [],
   "source": [
    "def get_video_ids(youtube, playlist_id):\n",
    "    \n",
    "    response = youtube.playlistItems().list(\n",
    "        part = 'snippet, contentDetails', \n",
    "        playlistId=playlist_id, \n",
    "        maxResults=50\n",
    "    ).execute()\n",
    "    \n",
    "    ids = {i['snippet']['title']:i['contentDetails']['videoId'] for i in response['items']}\n",
    "    \n",
    "    next_page_token = response.get('nextPageToken')\n",
    "    \n",
    "    while next_page_token is not None:\n",
    "        \n",
    "        response = youtube.playlistItems().list(\n",
    "            part = 'snippet, contentDetails', \n",
    "            playlistId=playlist_id, \n",
    "            maxResults=50,\n",
    "            pageToken = next_page_token\n",
    "        ).execute()\n",
    "        \n",
    "        next_page_token = response.get('nextPageToken')\n",
    "        \n",
    "        for i in response['items']:\n",
    "            ids[i['snippet']['title']] = i['contentDetails']['videoId']\n",
    "    \n",
    "    return ids"
   ]
  },
  {
   "cell_type": "markdown",
   "id": "cfd0cf00",
   "metadata": {},
   "source": [
    "retrieve all video ids on the channel"
   ]
  },
  {
   "cell_type": "code",
   "execution_count": 513,
   "id": "3ce7d3d0",
   "metadata": {},
   "outputs": [
    {
     "data": {
      "text/plain": [
       "327"
      ]
     },
     "execution_count": 513,
     "metadata": {},
     "output_type": "execute_result"
    }
   ],
   "source": [
    "hoff_vids = get_video_ids(youtube, playlist_id)\n",
    "len(set(hoff_vids))"
   ]
  },
  {
   "cell_type": "code",
   "execution_count": 514,
   "id": "fcbcd138",
   "metadata": {},
   "outputs": [
    {
     "data": {
      "text/plain": [
       "{'Coffee Roasting Explained': 'N6BJVM5tvnw',\n",
       " 'The xBloom Review: Is Great Filter Coffee Easy Now?': 'hM1cP555xt4',\n",
       " 'An Upgraded Vintage Lever Machine': 'hBdiBV-yzlk',\n",
       " 'Can You Roast Coffee In Helium?': 'RhhkRsr6zJE',\n",
       " 'The Best Coffee Toys Under $50': '5OFt2T8aH9I',\n",
       " 'A Coffee Kickstarter Cautionary Tale': 'hnSUFXfRddE',\n",
       " \"YouTube's Best Tiramisu (Ep #2)\": '9536y-4Nl7A',\n",
       " 'Coffee Pods Are Good For The Planet Now?!': 'i8B8wDsORz4',\n",
       " 'The Fellow Ode 2: The Review': '3f8dv72Ex6U',\n",
       " 'Solar Coffee Roasting: A Weird Desert Experiment': 'qV0bJHizJBA',\n",
       " 'The Tiramisu: How It Became So Popular (Ep #1)': 'oWMbuTc7iIU',\n",
       " 'Tasting Five Of The Best Tiramisus in Treviso (The Home of Tiramisu!)': 'uQQLpFdeDWM',\n",
       " 'Caffeine Testing: Specialty vs Chains': '_HvsxuM7ljs',\n",
       " 'I Did Caffeine Analysis: Some Unexpected Results!': 'etnMr8oUSDo',\n",
       " '1 Cup V60 Part 2: You Had A Lot Of Questions!': 'v5WQ1sZzW4o',\n",
       " 'A Better 1 Cup V60 Technique': '1oB1oDrDkHM',\n",
       " 'The Best USA 🇺🇸 Grocery Store Coffee': 'pfqvTCgglYA',\n",
       " 'Deep Fried Coffee: A Surprising Discovery': 'c6y_3KR7IV4',\n",
       " 'A Coffee Design Classic: The Braun KF20': 'Eg_2EwaSZVI',\n",
       " 'Getting Weird With The Latte Art Printer': 'riiSHjkEMyM',\n",
       " 'Coffee Balls: Bizarre Or Brilliant?': 'JICKZOdDtVc',\n",
       " 'Reviewing My AliExpress Coffee Equipment Haul': 'xs9F6-ldjDk',\n",
       " \"Better than Brad? I remade Brad Pitt's Coffee Commercial\": 'W0hFEPPOGKI',\n",
       " 'My Restored Vintage Lever Machine Arrives!': 'bGw5ZSdVAkA',\n",
       " 'How To Make The Best Coffee At Home': 'X9tg3J5OiYU',\n",
       " \"Q&A! Weird Fermentations? The Decaf Project? What's My Daily Driver?\": 'zhX0N1_ye7E',\n",
       " \"An Experimental Coffee Ice Cream (That's Delicious)\": 'CHPn77jpt2w',\n",
       " 'The Makita Coffee Machine: A Bizarre Battery-Powered Brewer': '4xOEIpbxM4w',\n",
       " 'Coffee Certifications Explained': 'PmwoSqg0dqI',\n",
       " 'Sounds Of Coffee: The V60': 'YbXbcQEFPOU',\n",
       " 'The Tricolate Vs The Next Level': '4l_h2D8fJTU',\n",
       " 'ZPM: The Kickstarter Failure That Revolutionised Espresso': 'GKA2COJRt6M',\n",
       " 'The Best Portable Espresso Machine - A Ridiculous London Day Out': 'JT5Rz3QV74g',\n",
       " 'Drinking Harrods Coffee From the 1930s': 'mZrgzQvNhXg',\n",
       " 'Bad Coffee In A Cafe - What Should You Do?': 'OXbQx2hfA5k',\n",
       " 'Kopi Luwak/Civet Poop Coffee: Disgusting or Delightful?': 'pkbuFwHnJQY',\n",
       " 'Weber Workshops Key Grinder Review': 'bQ-ta6s931c',\n",
       " 'How I Make Espresso: Tools and Techniques': 'xb3IxAr4RCo',\n",
       " 'The Best Bean To Cup': 'iZEM1cC86t8',\n",
       " 'How To Dial In A Bean To Cup Machine (Like A Nerd)': 'J6yWOyNq0uw',\n",
       " 'Buying A Vintage Espresso Machine': '6Kv1e00rCbc',\n",
       " 'There Is No \"World\\'s Strongest Coffee\"': '8jAMOAmYCJI',\n",
       " 'Is There A Better Moka Pot? (Episode #4)': 'uwMPGEo4zCs',\n",
       " 'The Ultimate Moka Pot Technique (Episode #3)': 'BfDLoIvb0w4',\n",
       " 'Understanding the Moka Pot (Episode #2)': 'zK0F5PqJ1Gk',\n",
       " 'Mixing Coffee Beans and Liquid Nitrogen - A Surprisingly Good Idea': 'hXad5XBRTcI',\n",
       " \"A Beginner's Guide to Resting Coffee\": '_Py8JOi3REg',\n",
       " 'The Bialetti Moka Express (Episode #1)': 'upgQsA5kLAk',\n",
       " 'Espresso Machine Baskets Explained': '3oFV88PzEFE',\n",
       " '$50 vs $500 Vs $500,000 Coffee Grinder': 'WkYqHWThIpA',\n",
       " 'The Horror of Aldi’s Espresso Martini Cheese': 'W2cIOOG4ImE',\n",
       " 'The Flair 58: Frustratingly Close To Outstanding': '3X84AYoNEQw',\n",
       " 'Sour Candy Espresso #Shorts': 'IW8j1nNe5xk',\n",
       " 'Coffee Particle Size Analysis With A Vacuum Cleaner #Shorts': '9-n1MdXVGG8',\n",
       " 'I Tried Every Nespresso Pod': 'EvMwNnAtTL8',\n",
       " \"Aldi's Absurdly Cheap Single Cup Brewer\": 'Xg5ZabSh2P8',\n",
       " 'A Ridiculous 1 MILLION subscriber giveaway': 'bKpvzjN-Dzc',\n",
       " '\"Coffee Expert\" Reacts to Brad Pitt\\'s Weird Coffee Commercial': 'Nvlh8Bh-QQA',\n",
       " 'How to Make Coffee Without Coffee Equipment': 'JV1DsqwbmO0',\n",
       " 'Ceramic Coffee Filters: Magical or Maddening?': 'fSuqlZna6Tg',\n",
       " 'The Weber HG-2 - The $1,650 Hand Grinder': 'FL65i1XhVec',\n",
       " 'The (Accidentally) Annual Q&A: Tiramisu | Decaf | Travel Gear & More!': 'EcB5aQ4wj8s',\n",
       " 'Coffee BBQ Sauce Shouldn’t Be This Good': 'y3HTpZAtD4I',\n",
       " '3D Printing Coffee Stuff': 'X3bEjJ_S2V0',\n",
       " 'The Best Home Coffee Brewing Machine': 't8eYs2vxT-8',\n",
       " 'The Barisieur - Do You Need A Fancy Bedside Coffee Maker?': 'UALN1ZoN6bA',\n",
       " 'My Nemesis: The Coffee Scoop': 'Umb2lhcxHHU',\n",
       " 'The Bizarre And Surprising Coffee Of The Nespresso Vertuo': 'pO06RC4pvr0',\n",
       " 'The Best Electric Temperature Controlled Gooseneck Kettles': 'Pbel051H7-s',\n",
       " 'Espresso Drinks Explained: Histories, Recipes and More…': '93waR1jzoLA',\n",
       " 'Why Cheap Coffee Makers Suck (And How To Fix Them)': 'P-Ga8SRhRrE',\n",
       " 'Everything You Need To Know To Steam Great Milk': 'oaKRBBpA4fw',\n",
       " 'Shockingly Delicious Espresso Pucks': 'nRuNL6idNfI',\n",
       " 'I Recorded An Audiobook - Out Now!': 'mSwVKnRPD2o',\n",
       " 'Coffee Recipe Water Compared': 'g-5p_H9WNpA',\n",
       " 'Stop Putting Coffee In Everything': 'H9FtlOq_iK0',\n",
       " 'The DF64: Niche Killer?': '53lTlpjM2sQ',\n",
       " \"A Beginner's Guide to Coffee Grinders\": 'bgjvLQu5NlE',\n",
       " 'The Best Espresso Machine Under £1,500': 'e0kQ5WqjcU8',\n",
       " 'The Caffe Shakerato - Three Recipes': 'XYUuot8lJAY',\n",
       " \"A Beginner's Guide To Buying Great Coffee\": 'O9YnLFrM7Fs',\n",
       " 'How To Brew Better Dark Roasts': 'lrRdRxAqMHc',\n",
       " \"More Aeropress: Reusing Filters? Competition Brews? Coffee For 2? Your Q's Answered (Episode #5)\": 'DlaEwef6MTg',\n",
       " 'AeroPress Accessories & Upgrades (Episode #4)': 'Qz_GZpzpst4',\n",
       " 'Tasting The Lost Species That Might Save Coffee': 'iGL7LtgC_0I',\n",
       " 'The Ultimate AeroPress Technique (Episode #3)': 'j6VlT_jUVPc',\n",
       " 'Unmaking Coffee #shorts': 'W0D8InBUi1E',\n",
       " 'Understanding The AeroPress (Episode #2)': 'jBXm8fCWdo8',\n",
       " 'How Coffee Brewing Makes Better Vegetable Stock': 'VV68NiRulEk',\n",
       " 'The AeroPress (Episode #1)': 'aidvrssMSGo',\n",
       " 'Should You Upgrade Your Grinder Burrs?': '7QYlExoEpvA',\n",
       " 'The Most Wonderfully Absurd Coffee Brewer Ever Made': 'tltBHjmIUJ0',\n",
       " 'Six Interesting Coffee Brewers (Compared)': 'RP1BH1AiwoQ',\n",
       " 'Understanding Espresso: Pressure (Episode #6)': 'po3oGIicu-8',\n",
       " 'Drinking Donuts (In Coffee)': 'j-_E7R-Eu_w',\n",
       " 'The Best Cheap Espresso Setup (£250 Budget)': 'y1LUkfpTtu0',\n",
       " 'The Exciting Potential Of Amazonian Robusta?': '_qiwccma8Hs',\n",
       " 'Syrian Espresso Culture in Turkey': 'qDfLAS57_sU',\n",
       " 'Decolonising Coffee Through Flavour': 'DLv2Fzhktb0',\n",
       " 'James & James: Five Elixirs': 'hdCZqYD-tBw',\n",
       " 'The Ultimate Grinder Showdown Finale (Episode #6)': '6LGeBcUZ9YA',\n",
       " 'The Kafatek Monolith Flat Max (Episode #5)': 'MHZdX7WtdWc',\n",
       " 'The Levercraft Ultra (Episode #4)': 'CbHkdAv0XWA',\n",
       " 'The Mahlkönig EK-43S (Episode #3)': 'ROBoq7kYuNE',\n",
       " 'The Weber EG-1 (Episode #2)': '-3mB4MBITEI',\n",
       " 'The Option-O Lagom P-64 (Episode #1)': 'WeA-IqDEfMw',\n",
       " 'Steam Wand Scrambled Eggs': 'vnfxk_slKIk',\n",
       " 'Immersion Coffee Brewing Is Better Than Percolation': '09fNvoQMlGw',\n",
       " 'An Espresso Essential?': 'D8zqp3CgcbA',\n",
       " 'Creating A Better Dairy Alternative': '2UP6CSZsc5o',\n",
       " 'Caffeine: Explained': 'j805qJJajmM',\n",
       " 'Understanding Espresso - Brew Temperature (Episode #5)': 'QAzE-_ocf1U',\n",
       " 'For a cleaner puck... #Shorts': '8Y-EYGSOU7I',\n",
       " 'Is there a better way to reheat coffee?': 'yqgKlqAUM9g',\n",
       " 'A Coffee Gift Guide for 2020': 'yqgVGTuDMDc',\n",
       " 'The Ultimate Clever Dripper Technique': 'RpOdennxP24',\n",
       " 'XeoLeo Vs Fellow Ode Vs Wilfa Uniform: A Grinder Comparison': 'bVqGgvMnp4M',\n",
       " 'Coffee Substitutes: Tasted and Explained': 'KArQ3mBzWC4',\n",
       " \"Drinking Georgia's Coffee Jelly\": 'qR0EkZtWscc',\n",
       " 'A Coffee Cake (That Tastes of Coffee)': 'ckQRBhTxgNA',\n",
       " 'My Current Daily Driver: Hario Switch + Sibarist': 'QjIvN8mlK9Y',\n",
       " \"The Fellow Ode Grinder - 2020's Most Anticipated Coffee Product\": 'QE4NT8MY-Zo',\n",
       " 'Science Says No Coffee Before Breakfast?!': 'U8CJ_DCeADY',\n",
       " 'Drinking Espresso from the 1950s': '3EHQ_a1334c',\n",
       " 'In-Car Coffee Makers: 1979 vs 2020': '8V1DOHUiWcU',\n",
       " '3 Lessons Learned Tasting Coffee With 10,000 People': 'XcPIXp-s3YU',\n",
       " 'Understanding Espresso - Grind Size (Episode #4)': 'er2voEn8ZDU',\n",
       " 'The Flair Neo': 'Ye5Amz7ddYw',\n",
       " \"LIVE! The World's Largest Coffee Tasting\": '98MD900CAzg',\n",
       " 'The Ultimate Pumpkin Spice Latte': '3hLyDVgkUJY',\n",
       " '£50 Burr Grinders: A Bargain Or A Terrible Mistake?': 'AVYGxext8XI',\n",
       " 'The Best Espresso Machine Under £500': '7HIGdYy5of4',\n",
       " 'The Eagle One': 'BV506qOTkco',\n",
       " 'Yemenia: Bigger than Gesha?': '-oiHm0wlhfM',\n",
       " 'Wilfa Uniform vs Niche Zero: One Year Later': 'dQiLVamJRdk',\n",
       " 'Tasting The Improbable: Coffee Grown In The UK': 'ilY4EV9Qqs8',\n",
       " \"THE WORLD'S LARGEST COFFEE TASTING IS BACK!\": 'aqRKY44PbD4',\n",
       " 'The La Pavoni Europiccola': 'lKimj0vRM5A',\n",
       " \"YouTuber Coffee Brands: How And Why They're A Thing\": '1vSOoy9PEBw',\n",
       " 'Understanding Espresso - Brew Time (Episode #3)': 'hQaV3w_XNiw',\n",
       " 'The Best Technique for Coffee Cocktails?': 'cwJXqFfeZrE',\n",
       " 'Can you trust my reviews?': '6I5QqmVZYY8',\n",
       " \"Why Italians Don't Drink a Cappuccino After 11am\": '7mIcIVCnTrY',\n",
       " 'Espresso Tonic - From Scratch': '4x92J4gQwzM',\n",
       " 'Crema Explained': 'j5rygXblZJU',\n",
       " 'Review: Pakt Coffee Kit': 'DVDferqCuxY',\n",
       " \"I've Never Seen This Before - Coffee in Super Slow Motion (up to 2,000fps)\": '1G09_Hok0h4',\n",
       " 'The Beauty of Espresso In Slow Motion (1,000fps in 4K)': 'wzEiZdcss88',\n",
       " 'The Best Coffee Storage Canister': 'K0JWuhE8a-w',\n",
       " 'The 9Barista Espresso Machine Review': 'ZcZMGx15QBU',\n",
       " 'The Coffee Cycler - Why Did They Build This?!': '39g6utADRzs',\n",
       " 'Caffenol: Developing Photos with Coffee and Vitamin C': '9bhOtTUtPhg',\n",
       " 'Cloth Filters for Coffee': 'dr_I3ZVKKb4',\n",
       " 'Understanding Espresso - Ratio (Episode #2)': 'F4wrUP4c5P4',\n",
       " 'The Best Espresso Machines Under £100': 'avM-XsaTBIc',\n",
       " 'Review: Hario Air Kettle': 'jB29c185UK8',\n",
       " 'Ultrasonic Rapid Barrel-Aging Coffee - Weird Coffee Science': '2meeYcxXoVs',\n",
       " 'Regrinding Coffee - A Surprising Result': '6IjFfl-8Gu8',\n",
       " 'Supermarket Instant Coffee - Which One Tastes Best?': '8cIqLvJz8VM',\n",
       " 'A Correction & An Apology: Ecoffee Cup': '-5PtDOhtgGk',\n",
       " 'Taika - Coffee As A Destination': '1gUoMAhcTC0',\n",
       " 'Review: The Olympia Cremina': 'Vyhn49uXyHk',\n",
       " 'The Magic of Salt in Coffee': '9PUWQQ-joKE',\n",
       " 'Weird Coffee Science - Humid Coffee Gets Weirder (Part 2)': 'BcXK1MZJDAM',\n",
       " 'Making Cappuccino/Latte/Flat White at Home (without an Espresso Machine)': 'ZgIVfU0xBjA',\n",
       " 'Why jimseven/Tiramisu/Weird Coffee Ever/Upcoming Brewguides & More - The 250k Q&A': 'tbujpfPEpKM',\n",
       " 'The £299 Aldi Espresso Machine - How Bad Could It Be?': 'tuFQbiIVUkw',\n",
       " 'Understanding Espresso - Dose (Episode #1)': 'aTFsBqhpLes',\n",
       " 'Dalgona Coffee - Explained and Upgraded': 'WHmpgMsW-aA',\n",
       " 'Should you freeze coffee beans?': '5uT5_IWWb00',\n",
       " 'Filming With Derren Brown - What Really Happened...': 'PIXdiH7xnVE',\n",
       " 'The Coffee Industry & Coronavirus': 'AbwzCJ7GCec',\n",
       " 'Brew your coffee with boiling water - coffee brewing temperatures explained.': 'K_r5kpXPRYo',\n",
       " 'The Smart Espresso Profiler Review': 'ckBWoRHkUZ4',\n",
       " 'Chamberlain Vs McKinnon - YouTuber Coffee Review': 'eINE82PhkJU',\n",
       " 'Tour Diaries: 24 hours in Jakarta': 'Exe2V-0C_yw',\n",
       " 'The New Square Mile Roastery Tour': '7kkRdNHiAp4',\n",
       " 'Did Science Just Reinvent Espresso?': 'BoYBLn9hRqs',\n",
       " 'The Chemex': 'ikt-X5x7yoc',\n",
       " 'Weird Coffee Science - High Humidity Coffee Storage': 'J7xEbf1mkm0',\n",
       " 'Dialling In Espresso - Episode 3': 'aQOKa61YBYc',\n",
       " 'Review: Aram Espresso Maker': 'xlUxtgM_Ipc',\n",
       " \"Bonus: Brewing that '70s coffee in a V60\": 'QVoSTISe9Rc',\n",
       " 'Drinking Coffee From The 1970s': 'VNmXy8IW0e0',\n",
       " 'Was I Right? 2019 Predictions Analysis': '8navLQaBVzk',\n",
       " 'The Best Water for Coffee - An Introduction': 'jfElZfrmlRs',\n",
       " 'Jägermeister Cold Brew Coffee': 'GMuL2nupRFk',\n",
       " 'Recipe: A Coffee Amaro (In 30 Minutes)': '4LO8IpK3C3U',\n",
       " 'A Pour Over Robot Battle - Beem Vs. Melitta EPOS': 'kN5HGoMR9c8',\n",
       " '10 Coffee Gift Ideas': 'fsNpZzpgayY',\n",
       " 'Recipe: Coffee Soda #1': 'f1vmP-QAA8Y',\n",
       " \"Review: It's American Press\": 'eF2j-Cw0imA',\n",
       " 'How I Dial In Espresso - Episode 2': '1eK0eidOA_U',\n",
       " 'The Weirdest & Scariest Custom Espresso Machine I Own': 'v4QyfElo1fs',\n",
       " \"Review: All of IKEA's Coffee Stuff\": 'GeI9DHf1Vkw',\n",
       " 'I Am Defeated: The End Of Weird Coffee Reviews': 'eEqYoO-Rprk',\n",
       " 'Review: The Aeropress Go': 'U_hwYVboAVQ',\n",
       " 'Weird Coffee Science - Centrifuging Espresso': 'j8J_0OTmXQg',\n",
       " 'First Look Review: Cafelat Robot': '11ZSXVZbQbA',\n",
       " \"New Espresso Tech At HOST '19 & Starbucks In Milan\": '9mVy47KmmOE',\n",
       " 'Review: La Croix Coffea Exotica': '4To0eiEcs4s',\n",
       " 'Review: Sage (Breville) Precision Brewer': 'HfkdkZRv6Mc',\n",
       " 'Three Mistakes I Made Starting A Business': 'fcr-zcCBCEs',\n",
       " 'Review: The Delter Press - Better Than The Aeropress?': 'DAhVCRQk_mY',\n",
       " 'Weird Coffee Science: Hacking Sour Espresso': 'jtCbIbi2dHI',\n",
       " 'How I Dial-In Espresso - Part #1': 'lFwJF-_SUr0',\n",
       " \"The World's Largest Coffee Tasting - Live!\": 'JI7PQu-i578',\n",
       " 'The Best Smart Coffee Scale': 'SIzFhnZ32Y0',\n",
       " 'Review: Discarded Cascara Vermouth': 'HMvRUn2WTM4',\n",
       " 'The Ultimate Espresso Affogato': 'u7qCzZCoI2M',\n",
       " 'Review: Kruve EQ Glassware': 'RVBxeB4VbLY',\n",
       " \"Be A Part Of The World's Largest Coffee Tasting!\": 'j5uCK3OhlKM',\n",
       " 'Review: PBR Hard Coffee': 'u6gOu4_HxX8',\n",
       " 'Weird Coffee Science: Microwave Your Coffee Beans': 'yXCboVCDHLw',\n",
       " 'A Beginners Guide to Coffee Tasting': 'kEZZCQTSSAg',\n",
       " 'The Ultimate V60 Technique': 'AI4ynXzkSQo',\n",
       " 'Weird Coffee Science: The Hard Bloom': 'MpKEdZjpqXM',\n",
       " 'Clear Coffee: Rolling River Coffee Spirit': 'mPoturQr92Q',\n",
       " 'How To Cup (Taste) Coffee At Home': 'cSEgP4VNynQ',\n",
       " 'Review: The Niche Zero Grinder': 'FzOY2tHyZ4w',\n",
       " 'Can Coffee-Colas Be Good?': 'ROumwg6ML9Y',\n",
       " 'Why is a cup of coffee so expensive?': '7SM2Jrot-ZM',\n",
       " 'Coffee, Climate Change & Extinction: A conversation with Dr Aaron Davis at Kew': 'Y98E7OCdGdQ',\n",
       " \"Tasting Scott Rao's High Extraction Espresso\": 'fEXLftYYV8o',\n",
       " 'Product Review: Wacaco Nanopresso': 'L4t7UDCz9Sk',\n",
       " 'Review: Pfanner Cold Brew & Orange/Lemon': '4X5tgeS_obs',\n",
       " 'Stop Swirling Your Espresso': 'iI09bbH22vQ',\n",
       " 'Review: The Oomph Vs The Cafflano Go-Brew': 'mikxp3xggMs',\n",
       " 'The Birth of Espresso': 'I8uStVXNf0M',\n",
       " 'The Ultimate Hand Grinder Showdown': 'dn9OuRl1F3k',\n",
       " 'Making Coffee In A Clear Glass Moka Pot': 'c7FoqR9oCfI',\n",
       " 'Coffee Brewing Ratios Explained': 'ipB6P1uzNYM',\n",
       " 'Product Review: Technivorm Moccamaster 68 Jubilee': 'UnDCQRLfwoM',\n",
       " 'Why Modern Espresso Is So Ugly': 'nYFb43tEylk',\n",
       " 'Three Mistakes I Made Early In My Career': 'nBkKwT-1CaQ',\n",
       " 'Review: Löfbergs Caffeine Water': 'sNhfAkqaKDo',\n",
       " 'Why Bourbon Coffee & Bourbon Whiskey Share A Name': 'cjv9y-EDg9A',\n",
       " 'Outsiders: Three Notable New London Cafes': 'krDc4FsuxJw',\n",
       " 'The Best Cheap Manual Coffee Grinder': 'QLEBfom0mhM',\n",
       " 'A Rant: Espresso Ratios & Recipes': '45Ja8pJU73s',\n",
       " 'The Reusable Cup Problem: A solution': 'F186_L3Xmjs',\n",
       " 'NEW PROJECT & Coffee Playing Cards': 'TB_XuR4GlVo',\n",
       " 'Review: Fellow Prismo Vs Cafflano Kompresso': 'JZ--RnK81DQ',\n",
       " 'The Cappuccino Explained': '-US-wCePuRA',\n",
       " 'Product Review: Wilfa Uniform Grinder': 'TvmYngoL8RQ',\n",
       " 'Square Mile Coffee V2 Is Dead...': 'H49wBHQjRxE',\n",
       " 'Launching my Patreon': 'ANVhCCcguAQ',\n",
       " 'Five (Coffee) Predictions for 2019': 'BmlBxJOb1lY',\n",
       " 'My 2018 Predictions: Right or Wrong?': '6R3hGoxwN2g',\n",
       " 'Product Review: The Ember Smart Mug': '8pPCMjqI_uw',\n",
       " 'What No One Tells You About Learning To Taste': 'tU1y7hBSgiY',\n",
       " 'My Thoughts: The End of Alpha Dominche': 'uLzbhUQIyq0',\n",
       " 'First Look: New ROK GC Espresso Maker and Grinder': 'HdsqF83x9rA',\n",
       " 'A Visit to Bellwether & The Future of Coffee Roasting': '1pTTOnm-KxY',\n",
       " 'Coffee Hack: The Best Blade Grinder Results': '3y7d-5KWHCU',\n",
       " 'A Visit To Cat & Cloud': 'liIX7xI9Z3k',\n",
       " 'First Look Review: Flair Espresso Maker': 'kZV-tnx6BN8',\n",
       " 'Product Review: Decent DE1+ Espresso Machine': '1poWV0OLSMA',\n",
       " \"My Thoughts: JAB and Illy's Weird Nespresso Deal\": 'hBFyacIyfZ4',\n",
       " 'The Truth About V60 Filter Papers': '0uggibTY0AE',\n",
       " 'An Update & A Question About The Future Of The Channel': 'QgLIdzQ9IaE',\n",
       " 'The New Atlas - A Quick Q&A': 'vn7DEiT7_TM',\n",
       " \"Let's Talk Coffee: Risk, Power & A New Social Contract\": 'gA141B1TywU',\n",
       " \"Product Review: Hal's New York Seltzer: Coffee Flavour\": 'UJ-vpVfU3wU',\n",
       " 'New Book: World Atlas of Coffee 2nd Edition': 'aOUs67rP1Xg',\n",
       " 'Topic: Coffee Business': 'RmZJ9rz7Fik',\n",
       " 'My Thoughts: Coca Cola buys Costa Coffee': 'Gt_omzmOxp0',\n",
       " 'Lume Grinder: Finally a good portable electric grinder?': 'd0fYF5-rid8',\n",
       " 'My WBC Winning Routine: Analysis, Tips, Tricks & Stories': '_DwZV17bek4',\n",
       " 'Topic: Brewing At Home Q&A': 'yZkIoU4OO5A',\n",
       " 'Product Review: Cisno Portable Nespresso Maker': 'c23nOndqOhc',\n",
       " 'Eulogy For The Tamper?': '6YO1uuwUJ28',\n",
       " 'Book Review: Three New Books for Coffee Pros': 'KQy9BWoqDNc',\n",
       " 'Better than cold brew: How to make iced filter coffee': 'PApBycDrPo0',\n",
       " 'Coffee Review: Asahi Clear Latte': 'eTqsvy_6iqE',\n",
       " 'Now I got copied?! (Aeropress Dice edition)': 'uRMbG5Lo-kE',\n",
       " 'A rant: Copying, IP And Product Design': 'HXkPLIb7VSo',\n",
       " 'My thoughts: JAB Holdings Buys Pret A Manger': 'KDt145EM6aA',\n",
       " 'Beer, Coffee & Ideas: Uppers & Downers London 2018': 'Cqgr8cg1ix0',\n",
       " 'First Look: Decent DE1+ Espresso Machine': 'nUb5O7lQKbE',\n",
       " 'My Most Expensive Sandwich': 'H3DCjL30Bis',\n",
       " 'Interview: Maxwell Colonna-Dashwood & Peak Water': 'u-mU7prQZuY',\n",
       " 'What I Learned At The London Coffee Festival': 'TRs2r4MMo6s',\n",
       " 'SQM @ LCF 2018': 'fkQHY_3gplQ',\n",
       " 'How The Past Predicts the Future (Short Talk)': 'HDay_KkwZz0',\n",
       " 'The Best Coffee in Dublin': 'cMQTrrK92II',\n",
       " 'The Truth About Paper Cups': 'vFXznoNqRfo',\n",
       " 'Q&A Volume #2 - Creating a successful cafe, sales tactics and more': 'HEzPay2viRQ',\n",
       " 'The Best Instant Coffee?': 'WuLWwZiIcl0',\n",
       " '5 Predictions for coffee in 2018': 'Zir8ME6f0Is',\n",
       " 'Product Review: Oracle Touch by Sage/Breville': 'fRBOxyu2b2Q',\n",
       " 'Blue Bottle Worth $700 Million?': 'tNp29UZ2mOU',\n",
       " 'Coffee Brewing Dice: Aeropress Edition': 'SHdXC_88_2g',\n",
       " 'An Espresso Roast Whisky': 'oD4zUFA0g1Q',\n",
       " 'Updates! Vlogs! (HK & Oslo) Exciting news!': 'QA7piS1c6pM',\n",
       " '60 Second Review: The Puqpress': '48Te39tEoRg',\n",
       " 'Product Review: Kruve Sifter': 'slZT82soY4k',\n",
       " 'Q&A Volume #1: Pods, Cupping, Automation, Buying a Coffee Farm, Menus and More...': 'xiHz6ZOivio',\n",
       " 'Product Review: The Coldwave (For Iced Coffee)': 'qOoUuP_4nF0',\n",
       " 'Coffee Review: CLR CFF - Clear Coffee?!': '2uhjHHPd_Rw',\n",
       " 'Brewer Review: Wilfa Svart Precision': '_I10vilzxD8',\n",
       " 'Coffee Hack: Better Americanos': 'XQ3TcpI2Lu8',\n",
       " 'Coffee Hack: No More Static': 'T0Dh1W40ILY',\n",
       " 'Short Stories Series #3 Intro': 'LGPazRNDOZA',\n",
       " 'Grinder Showdown: Wilfa Svart vs Baratza Encore': '1gm6UfD9qSc',\n",
       " 'Cascara Banned!?': 'ZRcRq3GvNDw',\n",
       " 'Kokekaffe and the Tias Kettle': 'j1Es-3HtEPc',\n",
       " 'Grinder Review: Wilfa Svart': 'aChUZZOp654',\n",
       " 'The jimseven book': 'aMrNQdIR79Y',\n",
       " 'Four London Coffee Institutions': 'aGe2rTT5IIA',\n",
       " \"#18 - Why I'm making videos\": 'd10JqMx7ynQ',\n",
       " '#17 - Huila, Colombia. Coffee farming from above!': 'VGiHPX6xjDg',\n",
       " '#16 - Malaysia: The biggest event of the trip. Also, monkeys!': '9CeSdWTzPzQ',\n",
       " '#15 - Singapore: Touristing and hidden coffee delights': '3Y2Lhqv0Ou0',\n",
       " '#14 - New Zealand: The Conundrum of Business Travel': 'cF4LKhPYlgI',\n",
       " '#13 - Japan: My lunch is better than your lunch': 'DIQdbLVJMNs',\n",
       " '#12 - China: The madness of a book tour': 'Q9__hMsX08o',\n",
       " \"#11 - A change to the weekly vlog and what's next. Also the first Joule in the UK!\": 'l-WfjIaPflI',\n",
       " 'VA388 Gravimetric Programming & Calibration': 'xF4-lD_D3ks',\n",
       " '#10 - Losing the battle to the flu': 'nnreHF3tdz8',\n",
       " '#9 - Essential vermouth knowledge, a challenging map & doughnut disappointments.': 'DqoAkz5S6t4',\n",
       " '#8 - In which I complain about cocktail culture, VR with Björk, review a book and point at latte art': 'EKo_uexPbRg',\n",
       " 'The Ultimate French Press Technique': 'st571DYYTR8',\n",
       " '#7 - A TV career, a care package and doing my homework': 'Cjufn_ROr5c',\n",
       " 'A short talk: Coffee is a dead end job': 'kWCDDzeuBrA',\n",
       " '#5 - Cascara Vs Nutella': 'gAPy-xm3Qnk',\n",
       " 'How to Make Cascara Chocolate': 'LcQ3Pi0tpGA'}"
      ]
     },
     "execution_count": 514,
     "metadata": {},
     "output_type": "execute_result"
    }
   ],
   "source": [
    "hoff_vids"
   ]
  },
  {
   "cell_type": "markdown",
   "id": "a3dc63de",
   "metadata": {},
   "source": [
    "## Following cell won't work since you need permissions to get captions through YouTube API..."
   ]
  },
  {
   "cell_type": "code",
   "execution_count": 515,
   "id": "d99b8a83",
   "metadata": {},
   "outputs": [],
   "source": [
    "#okay let's get the captions from one of the videos \n",
    "from googleapiclient.http import MediaIoBaseDownload\n",
    "\n",
    "def get_video_text(youtube, vid_id, file_dir=\"./\"):\n",
    "    # first get the caption id for en-GB caption track \n",
    "    response = youtube.captions().list(part='id, snippet', videoId = vid_id).execute()\n",
    "    \n",
    "    for i in response['items']:\n",
    "        if i['snippet']['language'] == 'en-GB':\n",
    "            caption_id = i['id']\n",
    "    \n",
    "    \n",
    "    download_response = youtube.captions().download(\n",
    "        id = caption_id,\n",
    "        tfmt = 'sbv'\n",
    "    ).execute()\n",
    "\n",
    "    return "
   ]
  },
  {
   "cell_type": "code",
   "execution_count": 8,
   "id": "125c845c",
   "metadata": {},
   "outputs": [],
   "source": [
    "#won't work since you don't have authorization\n",
    "#get_video_text(youtube, list(hoff_vids.values())[0])"
   ]
  },
  {
   "cell_type": "markdown",
   "id": "189a8eac",
   "metadata": {},
   "source": [
    "## Next ones should do the trick though :)"
   ]
  },
  {
   "cell_type": "code",
   "execution_count": 9,
   "id": "6bbd6a4f",
   "metadata": {
    "scrolled": true
   },
   "outputs": [],
   "source": [
    "#!pip install yt-dlp"
   ]
  },
  {
   "cell_type": "code",
   "execution_count": 516,
   "id": "14bcfab6",
   "metadata": {},
   "outputs": [],
   "source": [
    "import yt_dlp\n",
    "\n",
    "def download_captions(urls, path):\n",
    "    ydl_opts = {'subtitle': '--write-sub --sub-lang en-GB',\n",
    "               'writesubtitles': True,\n",
    "               'skip_download':True,\n",
    "                'paths':{'home': path}\n",
    "               }\n",
    "\n",
    "    with yt_dlp.YoutubeDL(ydl_opts) as ydl:\n",
    "        ydl.download(urls)\n",
    "        \n",
    "    return "
   ]
  },
  {
   "cell_type": "code",
   "execution_count": null,
   "id": "b1478604",
   "metadata": {},
   "outputs": [],
   "source": []
  },
  {
   "cell_type": "code",
   "execution_count": 519,
   "id": "ebf54cf3",
   "metadata": {
    "scrolled": true
   },
   "outputs": [
    {
     "name": "stdout",
     "output_type": "stream",
     "text": [
      "[youtube] Extracting URL: https://www.youtube.com/watch?v=N6BJVM5tvnw\n",
      "[youtube] N6BJVM5tvnw: Downloading webpage\n",
      "[youtube] N6BJVM5tvnw: Downloading android player API JSON\n",
      "[info] N6BJVM5tvnw: Downloading subtitles: en\n",
      "[info] N6BJVM5tvnw: Downloading 1 format(s): 22\n",
      "[info] Writing video subtitles to: ./subtitles/Coffee Roasting Explained [N6BJVM5tvnw].en.vtt\n",
      "[download] Destination: ./subtitles/Coffee Roasting Explained [N6BJVM5tvnw].en.vtt\n",
      "[download] 100% of   35.86KiB in 00:00:00 at 322.31KiB/s\n"
     ]
    }
   ],
   "source": [
    "#download all these at once? nah lets do like 10 \n",
    "\n",
    "to_url = lambda url: \"https://www.youtube.com/watch?v=\"+url\n",
    "urls = list(map(to_url, list(hoff_vids.values())))\n",
    "\n",
    "download_captions([urls[0]], path = './subtitles/')"
   ]
  },
  {
   "cell_type": "markdown",
   "id": "75e4ae50",
   "metadata": {},
   "source": [
    "Now we gotta analyze the vtt files or whatever \n",
    "- maybe we can process these, delete the source, then write a smaller file back? unless neglibigle "
   ]
  },
  {
   "cell_type": "code",
   "execution_count": 520,
   "id": "530eaed7",
   "metadata": {},
   "outputs": [
    {
     "name": "stdout",
     "output_type": "stream",
     "text": [
      "extracted captions for: 197/327 videos\n"
     ]
    }
   ],
   "source": [
    "import re \n",
    "import string \n",
    "\n",
    "vtts = ['subtitles/'+f for f in os.listdir('subtitles')]\n",
    "print(f'extracted captions for: {len(vtts)}/{len(hoff_vids)} videos')\n",
    "\n",
    "def vtt_to_txt(vtt):\n",
    "    with open(vtt) as f:\n",
    "        lines = f.read()\n",
    "    \n",
    "    #gets rid of timestamps \n",
    "    lines = re.sub(r'\\n\\b\\d{2}:\\d{2}:\\d{2}.\\d{3}\\b --> \\b\\d{2}:\\d{2}:\\d{2}.\\d{3}\\b\\n', '', lines)\n",
    "    \n",
    "    #arbitrarily split up \n",
    "    lines = re.sub(r'\\n', ' ', lines)\n",
    "    \n",
    "    #captions format \n",
    "    lines = re.sub('WEBVTT Kind: captions Language:', '', lines)\n",
    "    lines = re.sub(r'\\ben(-GB)?\\b', '', lines, count=1)\n",
    "    \n",
    "    #get rid of closed captions [like this] and (like this)\n",
    "    lines = re.sub(r'(\\(|\\[)\\w+(\\s?\\w+)+?(\\)|\\])', '', lines)\n",
    "    \n",
    "    #misc stripping of white space and leading punctuation imbued by auto caption\n",
    "    lines = lines.strip()\n",
    "    lines = lines.strip(string.punctuation)\n",
    "    lines = lines.strip()\n",
    "    lines = '. '.join([l.strip() for l in lines.split('. ')[:-5]]) #lossy \n",
    "    lines+='.'\n",
    "    \n",
    "    return lines \n",
    " \n",
    "    "
   ]
  },
  {
   "cell_type": "code",
   "execution_count": 521,
   "id": "9cb46f0a",
   "metadata": {},
   "outputs": [
    {
     "name": "stderr",
     "output_type": "stream",
     "text": [
      "100%|█████████████████████████████████████████████████████████████████████| 197/197 [00:00<00:00, 402.96it/s]"
     ]
    },
    {
     "name": "stdout",
     "output_type": "stream",
     "text": [
      "now have: 178 videos\n"
     ]
    },
    {
     "name": "stderr",
     "output_type": "stream",
     "text": [
      "\n"
     ]
    }
   ],
   "source": [
    "from tqdm import tqdm \n",
    "\n",
    "get_vid_name = lambda x: re.match(r'.+(?=\\[)', x.split('/')[1]).group().strip()\n",
    "get_vid_id = lambda x:  re.findall(r'\\[\\S+\\S\\]', x)[0].strip(string.punctuation) #stupid since i already had these\n",
    "vids = []\n",
    "\n",
    "total_vid_sizes = 0\n",
    "\n",
    "for vtt in tqdm(vtts):\n",
    "    #check if the captions are in english & that size is sufficiently big \n",
    "    if os.path.getsize(vtt) < 5000 or '.en' not in vtt or vtt[-3:]!='vtt':\n",
    "        continue \n",
    "    \n",
    "    vids.append({'title':get_vid_name(vtt), 'text': vtt_to_txt(vtt), 'videoID':get_vid_id(vtt)})\n",
    "    total_vid_sizes+=os.path.getsize(vtt)\n",
    "\n",
    "print(f'now have: {len(vids)} videos')"
   ]
  },
  {
   "cell_type": "code",
   "execution_count": 522,
   "id": "0fc20e43",
   "metadata": {},
   "outputs": [
    {
     "name": "stdout",
     "output_type": "stream",
     "text": [
      "We have 4.57 MB of hoffman content\n"
     ]
    }
   ],
   "source": [
    "print(f'We have {round(total_vid_sizes/(1e06),2)} MB of hoffman content')"
   ]
  },
  {
   "cell_type": "code",
   "execution_count": 523,
   "id": "1fab5fd4",
   "metadata": {},
   "outputs": [
    {
     "data": {
      "text/plain": [
       "(array([19., 28., 64., 27., 20.,  8.,  5.,  3.,  3.,  1.]),\n",
       " array([ 1238. ,  5441.4,  9644.8, 13848.2, 18051.6, 22255. , 26458.4,\n",
       "        30661.8, 34865.2, 39068.6, 43272. ]),\n",
       " <BarContainer object of 10 artists>)"
      ]
     },
     "execution_count": 523,
     "metadata": {},
     "output_type": "execute_result"
    },
    {
     "data": {
      "image/png": "[encoded data removed]",
      "text/plain": [
       "<Figure size 432x288 with 1 Axes>"
      ]
     },
     "metadata": {
      "needs_background": "light"
     },
     "output_type": "display_data"
    }
   ],
   "source": [
    "import matplotlib.pyplot as plt \n",
    "\n",
    "plt.hist([len(v['text']) for v in vids])"
   ]
  },
  {
   "cell_type": "code",
   "execution_count": 524,
   "id": "0020a5ae",
   "metadata": {
    "scrolled": true
   },
   "outputs": [
    {
     "name": "stdout",
     "output_type": "stream",
     "text": [
      "My WBC Winning Routine： Analysis, Tips, Tricks & Stories\n",
      "\n",
      "DwZV17bek4\n",
      "\n",
      "I wanted to do something a little bit different today It's been over ten years now since I last competed in barista competition but I thought it would be fun to go back and kind of watch through my performance as it was back then and Maybe explain a little bit about what was going on and some key things that I learnt from Competing from practicing that may be useful to you if you want to compete in barista championships Before we get started sadly there is not a high quality copy of this available This is the best there is and it's still pretty pixelated. So apologies for that and secondly, yes Yes, I did used to look ridiculous the hair the glasses the lot. I know I know just Just put it aside for a second. Forgive me in my past fashion indiscretions or whatever you want to say and let's get into Competing in Tokyo in 2007 in the world barista championship final. So Let's dive in It is with my great pleasure that I introduce World Barista Championship. Finalist number three The barista champion of the United Kingdom. Mr. James Hoffman So just a quick thing to start us off I just have to give Nick Cho a quick shout-out here he is probably my favorite emcee, and I can't Overstate the value of how good he is to make you feel as a competitor by bringing you on as the Barista Champion of the United Kingdom back when I was competing that wasn't really normal and it just felt really good and I have to say his voice is turned his Manner he is I think the the quintessential WBC emcee. So just a quick shout out to Nick Cho I won't pause this too much I'll try and talk it over the top when I'm when I'm not speaking in the performance, but you know Just let thinking back thinking about this. It seems worthy of a shout out. Alright Back we go Good morning, sir. Good morning well-rested. I hope yeah, I lost my voice a little bit, but I'll try and speak up today Very good. Are you ready? I am judges. Are we ready? World Barista Championship finalist when you're ready, please start your timer and begin your presentation. Thank you My name is James I am delighted to be here I'm actually going to start today with a little bit of signature drink preparation. I Wanted to create a drink that used all the ingredients that through their flavor marriage with coffee have become part and parcel of the ritual Of sitting back and really enjoying a cup of coffee. It's that cup that you want not that cup that you need Now I'm going to start two parts here on stage today. The first part is a bit of a challenge I like to turn foods into parts of drink. So I'm going to recreate biscotti as a clone now You can't use the finished biscuit. So I'm going to use the key ingredients and Infuse them just into water so the power just some still water and into that We're gonna add some almonds and some toasted hazelnuts. I Like the recipes of a biscotti that have a little rosemary in there add something to the nose, it's really nice. A little gelatin And just to sweeten that up just a little sugar syrup That will infuse on the hob at the same time I'm gonna do another infusion with a slightly unusual ingredient, which is tobacco Now I want this not just for the really interesting flavor marriage, but also for the sensation it's going to bring to the drink So we just have some half-and-half here And some tobacco and they're both gonna heat up If you get a chance, please do reach forward and just smell the tobacco. It has the most incredible aroma So while it's infusing, I'll prepare you each an espresso. Thank you Okay, I have to pause there just for a second. There's a few different things. I want to unpack about about that intro Firstly and this is a key thing You have a really small number of words in a barista competition Performance and you have to be quite careful about how you spend your allocation of words so for me a big part of this routine as it was back then was to spend as much time at the table with the judges as I could Everything that could be done at the table I did at the table because words have much more impact when you're close to someone when you're face to face secondly a Huge part of Barista competition I think is about trying to prime a judge to feel good about giving you a high score It's about making them Excited to taste something making them feel good about you making them Open to to giving a high score that's going to put them in a position where they're gonna feel Potentially a little bit of judgment from their fellow judges, you know They want to feel comfortable that when they say this is a five out of six That no one else in the room is gonna say are you insane? Right? So psychology with judges plays a huge role It's why I think often judges can make quite flawed barista trainers because they presume judges to be kind of infallible When they're really not so This drink. I love to pieces and I worked with the Fat Duck a restaurant in the UK Heston Blumenthal is the head chef, they're quite famous -- the proprietor. I worked with a guy Chris Young Who is the head of their food research lab. He now runs a company called ChefSteps and He was hugely helpful in this drink Which we'll come back to in a little bit and I'll let me get on with making some some espresso Now as I'm faffing away and prepping there a couple of key things that people asked at the time one Why did I use K 30 grinders at the time people didn't think they were cool everyone loved Roberts and The truth was that I used those grinders because Malkin Inc were willing to lend me two grinders to compete with I had no money no budget and I didn't have an issue with what other people had issues with in terms of clumping who people were really weirded out at the time that I'd used it. now Competition is kind of a head wrecker because there's almost infinite choices of coffees to serve to those judges So you've got to have a damn good reason to pick what you picked and at the time in 2007 It was such a different time, right? It was all blends all trying to compose really sweet rich round balanced things and I just didn't find that Interesting. I like the idea of just tasting one thing one farm one place and so that's why I chose a single estate from Costa Rica because at the time No one expected that to make a really great espresso And that's another key tip: playing with people's expectations is really useful It's quite powerful when you I think deliver well on it, and I served a really unusual Espresso -- certainly for the time. Now it wouldn't be considered that weird. But back then it kind of did. So Expectations are there to be messed with and you can set them and break them exceed them. Whatever you going to do But but that should factor into your coffee choices Whilst I do enjoy the same heavy-bodied chocolatey espressos I also like to explore coffee and this seemed a great opportunity just to serve you something very very different So I chose something perhaps a little unexpected In the cup On the nose certainly you should get a hint of hazelnut, roast hazelnuts and nougat but in the company should be light, delicate, fresh Please please really really stir this up because at the bottom of the shot is the sweetest part. Just give the most Wonderful finish will linger all the way up to your cappuccino Quick note, you're going to catch me saying the word \"enjoy\" way too much in this performance I think I'd been reading a bunch about NLP Neuro-linguistic programming and I was trying to do embedded commands or something like that a little bit I was very influenced by people like Derren Brown on this point This doesn't work Or maybe it does a little bit. But but feel free to mock me in the comments on that one now caps again I chose to do something that was considered unusual at the time which was used a single estate coffee from Kenya which Was the sort of antithesis of what people were trying to mix with milk to create a really balanced coffee drink But I figured the super juicy fruity thing expressed in that really well was really clear. Much more important though was my failure What I what I failed to do was consider my descriptors properly I used the descriptive blackcurrant quite a lot in this. I later found out that some of the judges didn't know what that word Meant. Blackcurrants aren't actually particularly universal as fruits They're not very common in the US for example. So be very thoughtful about the positioning your judges have when you try and put descriptors into their heads and into their minds Being incredibly specific can backfire on you Now a couple more things I used to shake horribly during barista competitions I would get really nervous and I would shake a lot and while I shake a little bit here I didn't shake that much and I'll tell you why. I didn't drink that much coffee before going on stage. And this is huge. Like I tasted half of one espresso before I rolled out for practice time Because what's easy to do is taste five six Seven eight ten shots backstage trying to dial in and you hit the stage and you're nervous and you just shake like a leaf So I would recommend having a team with you that can taste Get you in the ballpark and when you are close to dialed in then you taste, nail your descriptors, but you go on stage Not very caffeinated Second key thing here It's about knowing the rules and knowing how to bend them. Back then the rule was all four drinks had to be served simultaneously So most competitors made off all caps brought them to the table put them down And that was serving them I emailed and said can I pour my drinks tableside? They said, yes sure because I think they thought I would bring them up, pour all four, put them down and that would be that Instead, having got their permission, I poured them one at a time and spoke to each judge as I did it to give me more time Face to face with each judge and that I think was crucial and it became very quickly I think quite normal in barista competition once once someone had bent the rule it just sort of moved the goal posts Third big tip practice making mistakes. In the first round of this competition Actually in the first round the year before I had failed to properly shut off my cappuccino shots But I practiced messing up so I made up the time. I finished a good time. I knew where to cut corners practice practice practice and practice making mistakes So for my cappuccinos Whilst again, I do enjoy that espresso that's turned into chocolate and that's my milk. I also wanted to serve you something different here. I wanted to find a coffee that could offer a different kind of Interpretation of what a cappuccino can be and in one single estate again, I found just that So the estate that I've used for the cappuccino blend is one called Getanwini (?) it's in Kenya and as far as push i promise it's my favorite coffee this year I've been drinking a lot of it as filter coffee and it's one of those coffees that just not taste like across Terrible terrible latte art terrible foam depth. I know. These did not score that well So you can see here the the the judge in the kind of turquoise blue top She's singer Dora witnessed one of the lowest moments of my career in 2005 When I was competing in the UK finals and I dropped three cappuccinos all over myself So to have her as a judge in the finals when I won was was actually a really lovely moment of Circuitousness of closing a loop, I guess I really really enjoyed drinking this as I practiced, I'm really enjoying serving this to you today. So I really hope you enjoy it. There's a story about enjoy that until you write at the end after this thing is over that I think is hugely important for understanding This whole performance or thought or why it might have worked away why the judges liked it? It's Not a not a great cap in terms of foam and all that kind of stuff All right. So let's talk a little bit about the Sig drink. There's a really strange thing happens here on stage where We all arrived in Japan and discovered that if you wanted to use a Korean whipper the little nitrous charges Were illegal because they're they're they're a a kind of controlled drug in Japan in a way So what you'll see me do in a second is hand off my Korean whipper to Stephen Morrissey who who is my kind of coach and He charges it backstage Because there's a special machine to do that and sort of brings it back later. So it was really super confusing and strange Again anticipate the the the hard to anticipate. I in my first heat in the finals the two hot plates blew in the first round and my hot Drink was not hot. It ended up being a cold drink and I didn't realize until I was putting them down on the table They did offer me a chance to to go again, but but I I didn't take it. I still made it to the finals and you know, that was good, but Again, it was a good reminder for me that things go wrong. Practice, adapt, check Really well with this drink but equally that the fruit from the pain worked really well with the tobacco so for this drink I'll be using two shots of the Costa Rican coffee mixed also with two shots of the Kenyan getting win now that'll go into the tobacco infused cream with a little chocolate and that will Be the bottom of the drink and the biscotti foam on top This drink was actually really really delicious, but we'll come back to that. Again, Know the rules and know how you can bend or break them What was done here by pulling two shots of one coffee Two shots of another was at the time right in the gray area of the rules So, you know You can do things if you know the rules really well. People compete without reading every single rule and I think they're insane This is a game based on making coffee and I think you set yourself every advantage by knowing those rules super super well Speaking of rule changes you might catch a an inappropriate word of the music at some point The year after this they made it illegal to have swear words or inappropriate words in your barista competition music I didn't really think about it too much. My music choice actually was stuff I liked to listen to but I couldn't really hear it when I was on stage I was too focused and apart from the very last track, which is there to sort of set a mood, it was just stuff I liked and thought would be cool to play A lot of people were doing kind of elevatory music type stuff and that just never really Fit with me that well and Steven took it further the year after and just played a really fun soundtrack that really got audience going This was just kind of stuff I was into at the time. I regret nothing. One final thing -- There are four glasses there. I have a had a spare or two. They both broke backstage. Pack extra spares You will always need more spare things. Bring extras. Do not do what I did and roll out on stage with four glasses only. If I had dropped one, broken one, damaged one Game over. That's not smart. Anecdote I did almost kill Heston Blumenthal with an iteration of this drink we gave him heart palpitations by giving him a a sort of a tonic or infusion of cigars that was not was not good for humans to ingest so, you know It was a strange day Final note as he drinks. I keep saying final though. I know Creativity is often misconstrued here. This drink has chocolate, nuts, cream, sugar in it Those are the most obvious pairings in the world with coffee Yet I think you can still be creative with those. This won best signature drink that year, so The ingredients are not what make it creative Like to go and you're gonna have a cup of coffee and really enjoy When I drink this i like to take the times I like to start with a little spoonful of the biscotti foam and then drink it down. You're welcome to stir it -- you don't need to What I do like is that just as I swallow a little while later on I got a warm tingle in the tobacco coming through when I get that I like to sip again and just let the coffee and chocolate wash over that I really like this So again in the language I was still definitely trying to prep the judges to have a good experience trying to get them to think about Being somewhere they wanted to be. All of that kind of stuff I think contributes to a judge having a better experience on stage What what I'm doing by moving the trays underneath back again know the rules back then they didn't judge underneath the table for cleanliness So if you get as much stuff off your table, it wouldn't be count as being messy or or judged in their sort of cleanup score in your text sheet It's so funny to watch this back Barista champion from the United Kingdom James Hoffman. So I'll tell one final kind of story as I fade myself out here which was In 2008 I was invited to an event in Poland and They said hey two of the judges who judged you are here. So why don't you go up on stage and Tell the story of your routine and they'll come up afterwards and they'll tell the story of judging it, and so I deep dived right I went into like how I was trying to do clever things with the Espresso and the sig drink and the caps and and all that sort of neat technical things I was doing, how I was trying to subvert some of the tropes that back then Everyone started the competition performance is the same way. They were like \"Hi judges, today I will be serving you four espressos, four cappuccinos and four signature drinks.\".\n"
     ]
    }
   ],
   "source": [
    "import numpy as np \n",
    "\n",
    "i = np.random.choice(range(len(vids)), 1)[0]\n",
    "print(vids[i]['title']+'\\n')\n",
    "print(vids[i]['videoID']+'\\n')\n",
    "print(vids[i]['text'])"
   ]
  },
  {
   "cell_type": "code",
   "execution_count": 500,
   "id": "7f2e957d",
   "metadata": {},
   "outputs": [
    {
     "data": {
      "text/plain": [
       "11023"
      ]
     },
     "execution_count": 500,
     "metadata": {},
     "output_type": "execute_result"
    }
   ],
   "source": [
    "#we can check the dictionary here \n",
    "from sklearn.feature_extraction.text import CountVectorizer\n",
    "\n",
    "vectorizer = CountVectorizer(lowercase=True, stop_words = 'english').fit([v['text'] for v in vids])\n",
    "len(vectorizer.vocabulary_)"
   ]
  },
  {
   "cell_type": "markdown",
   "id": "0b47d034",
   "metadata": {},
   "source": [
    "## Known issues or peculiarities:\n",
    "- instances of 'pounds' instead the unicode symbol\n",
    "- guest coffee youtubers who don't reflect the personality you're trying to distill (e.g. Decolonising Coffee Through Flavour)\n",
    "- sponsor spiel \n",
    "- each video ends with the same \"comment below and have a great day\" -- remove this\n",
    "- his british pronunciation is hard to pick up by auto subtitles sometimes \n"
   ]
  },
  {
   "cell_type": "code",
   "execution_count": 525,
   "id": "65b186d6",
   "metadata": {},
   "outputs": [],
   "source": [
    "#write to a json so I don't have to reload everything again\n",
    "import json \n",
    "\n",
    "vid_json = json.dumps({'data':vids})\n",
    "\n",
    "#!mkdir clean\n",
    "with open('./clean/hoff.json', 'w') as f:\n",
    "    f.write(vid_json)"
   ]
  },
  {
   "cell_type": "code",
   "execution_count": 526,
   "id": "004b64ab",
   "metadata": {},
   "outputs": [],
   "source": [
    "#works \n",
    "with open('./clean/hoff.json') as f:\n",
    "    clean = json.loads(f.read())"
   ]
  },
  {
   "cell_type": "code",
   "execution_count": 527,
   "id": "c8d7857c",
   "metadata": {},
   "outputs": [
    {
     "data": {
      "text/plain": [
       "2462617"
      ]
     },
     "execution_count": 527,
     "metadata": {},
     "output_type": "execute_result"
    }
   ],
   "source": [
    "sum([len(v['text']) for v in vids])"
   ]
  },
  {
   "cell_type": "code",
   "execution_count": null,
   "id": "124dc4f4",
   "metadata": {},
   "outputs": [],
   "source": []
  }
 ],
 "metadata": {
  "kernelspec": {
   "display_name": "Python 3 (ipykernel)",
   "language": "python",
   "name": "python3"
  },
  "language_info": {
   "codemirror_mode": {
    "name": "ipython",
    "version": 3
   },
   "file_extension": ".py",
   "mimetype": "text/x-python",
   "name": "python",
   "nbconvert_exporter": "python",
   "pygments_lexer": "ipython3",
   "version": "3.9.3"
  }
 },
 "nbformat": 4,
 "nbformat_minor": 5
}
